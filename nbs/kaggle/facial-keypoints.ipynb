{
 "cells": [
  {
   "cell_type": "markdown",
   "metadata": {},
   "source": [
    "# Facial Keypoints Detection"
   ]
  },
  {
   "cell_type": "code",
   "execution_count": 1,
   "metadata": {},
   "outputs": [],
   "source": [
    "%reload_ext autoreload\n",
    "%autoreload 2\n",
    "%matplotlib inline"
   ]
  },
  {
   "cell_type": "markdown",
   "metadata": {},
   "source": [
    "# Data Loading"
   ]
  },
  {
   "cell_type": "code",
   "execution_count": 3,
   "metadata": {},
   "outputs": [],
   "source": [
    "from fastai.vision import *"
   ]
  },
  {
   "cell_type": "code",
   "execution_count": 4,
   "metadata": {},
   "outputs": [
    {
     "data": {
      "text/plain": [
       "PosixPath('/home/jupyter/.fastai/data/facial-keypoints-detection')"
      ]
     },
     "execution_count": 4,
     "metadata": {},
     "output_type": "execute_result"
    }
   ],
   "source": [
    "path = Config.data_path()/'facial-keypoints-detection'\n",
    "path.mkdir(parents=True, exist_ok=True)\n",
    "path"
   ]
  },
  {
   "cell_type": "code",
   "execution_count": 2,
   "metadata": {},
   "outputs": [],
   "source": [
    "#! pip install kaggle --upgrade"
   ]
  },
  {
   "cell_type": "code",
   "execution_count": 21,
   "metadata": {},
   "outputs": [],
   "source": [
    "! rm {path}/*"
   ]
  },
  {
   "cell_type": "code",
   "execution_count": 22,
   "metadata": {},
   "outputs": [
    {
     "name": "stdout",
     "output_type": "stream",
     "text": [
      "Downloading facial-keypoints-detection.zip to /home/jupyter/.fastai/data/facial-keypoints-detection\n",
      " 85%|████████████████████████████████▎     | 65.0M/76.3M [00:00<00:00, 33.0MB/s]\n",
      "100%|███████████████████████████████████████| 76.3M/76.3M [00:00<00:00, 126MB/s]\n"
     ]
    },
    {
     "data": {
      "text/plain": [
       "[PosixPath('/home/jupyter/.fastai/data/facial-keypoints-detection/test.csv'),\n",
       " PosixPath('/home/jupyter/.fastai/data/facial-keypoints-detection/SampleSubmission.csv'),\n",
       " PosixPath('/home/jupyter/.fastai/data/facial-keypoints-detection/training.csv'),\n",
       " PosixPath('/home/jupyter/.fastai/data/facial-keypoints-detection/IdLookupTable.csv')]"
      ]
     },
     "execution_count": 22,
     "metadata": {},
     "output_type": "execute_result"
    }
   ],
   "source": [
    "! kaggle competitions download -c facial-keypoints-detection -p {path}\n",
    "\n",
    "! unzip -q -n {path}/facial-keypoints-detection.zip -d {path}\n",
    "! unzip -q -n {path}/training.zip -d {path}\n",
    "! unzip -q -n {path}/test.zip -d {path}\n",
    "! rm {path}/*.zip\n",
    "\n",
    "path.ls()"
   ]
  },
  {
   "cell_type": "code",
   "execution_count": null,
   "metadata": {},
   "outputs": [],
   "source": []
  }
 ],
 "metadata": {
  "kernelspec": {
   "display_name": "Python 3",
   "language": "python",
   "name": "python3"
  },
  "language_info": {
   "codemirror_mode": {
    "name": "ipython",
    "version": 3
   },
   "file_extension": ".py",
   "mimetype": "text/x-python",
   "name": "python",
   "nbconvert_exporter": "python",
   "pygments_lexer": "ipython3",
   "version": "3.7.5"
  }
 },
 "nbformat": 4,
 "nbformat_minor": 2
}
